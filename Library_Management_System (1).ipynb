{
  "nbformat": 4,
  "nbformat_minor": 0,
  "metadata": {
    "colab": {
      "provenance": []
    },
    "kernelspec": {
      "name": "python3",
      "display_name": "Python 3"
    },
    "language_info": {
      "name": "python"
    }
  },
  "cells": [
    {
      "cell_type": "code",
      "execution_count": 2,
      "metadata": {
        "id": "h3H1PLQ6joRh"
      },
      "outputs": [],
      "source": [
        "# 1. Initialize the Library Collection\n",
        "# First, you'll need a list to store the books. Each book can be represented as a dictionary with keys for the title, author, and publication year.\n",
        "\n",
        "library = []\n"
      ]
    },
    {
      "cell_type": "code",
      "source": [],
      "metadata": {
        "id": "3u0t8AZQZTiW"
      },
      "execution_count": null,
      "outputs": []
    },
    {
      "cell_type": "code",
      "source": [
        "# 2. Add a New Book\n",
        "# To add a book to the library, you'll prompt the user to input the book's title, author, and publication year, and then append it to the library list.\n",
        "\n",
        "title = input(\"Enter the book title: \")\n",
        "author = input(\"Enter the book author: \")\n",
        "year = input(\"Enter the publication year: \")\n",
        "\n",
        "book = {'title': title, 'author': author, 'year': year}\n",
        "library.append(book)\n",
        "\n",
        "print(\"Book added successfully!\")\n"
      ],
      "metadata": {
        "colab": {
          "base_uri": "https://localhost:8080/"
        },
        "id": "e4SxsU52j7Bi",
        "outputId": "81da10c0-fd81-47eb-f172-6d3fb928effe"
      },
      "execution_count": 6,
      "outputs": [
        {
          "output_type": "stream",
          "name": "stdout",
          "text": [
            "Enter the book title: python\n",
            "Enter the book author: swingman\n",
            "Enter the publication year: 1987\n",
            "Book added successfully!\n"
          ]
        }
      ]
    },
    {
      "cell_type": "code",
      "source": [
        "# 3. View All Books\n",
        "# To view all the books in the collection, iterate through the library list and print out each book's details.\n",
        "\n",
        "if len(library) == 0:\n",
        "    print(\"The library is empty.\")\n",
        "else:\n",
        "    for book in library:\n",
        "        print(f\"Title: {book['title']}, Author: {book['author']}, Year: {book['year']}\")\n"
      ],
      "metadata": {
        "colab": {
          "base_uri": "https://localhost:8080/"
        },
        "id": "Xk0cFWn8kHty",
        "outputId": "77273429-6c68-4747-a743-b7a2379d462b"
      },
      "execution_count": 7,
      "outputs": [
        {
          "output_type": "stream",
          "name": "stdout",
          "text": [
            "Title: Aquire, Author: Jupiter, Year: 1999\n",
            "Title: The city, Author: sidian, Year: 1990\n",
            "Title: python, Author: swingman, Year: 1987\n"
          ]
        }
      ]
    },
    {
      "cell_type": "code",
      "source": [
        "# 4. Search for a Book by Title\n",
        "# To search for a book, ask the user to input the title and then loop through the library list to find a match.\n",
        "\n",
        "search_title = input(\"Enter the title of the book you want to search for: \")\n",
        "found = False\n",
        "\n",
        "for book in library:\n",
        "    if book['title'].lower() == search_title.lower():\n",
        "        print(f\"Book found! Title: {book['title']}, Author: {book['author']}, Year: {book['year']}\")\n",
        "        found = True\n",
        "        break\n",
        "\n",
        "if not found:\n",
        "    print(\"Book not found.\")\n"
      ],
      "metadata": {
        "colab": {
          "base_uri": "https://localhost:8080/"
        },
        "id": "wBQoGI7kkVre",
        "outputId": "83f4cc18-a3b4-4e05-834f-f39368edfd20"
      },
      "execution_count": 14,
      "outputs": [
        {
          "output_type": "stream",
          "name": "stdout",
          "text": [
            "Enter the title of the book you want to search for: the city\n",
            "Book found! Title: The city, Author: sidian, Year: 1990\n"
          ]
        }
      ]
    },
    {
      "cell_type": "code",
      "source": [
        "# 5. Update Book Information\n",
        "## To update a book, you'll search for it by title and then prompt the user to input new information for the author or publication year.\n",
        "\n",
        "update_title = input(\"Enter the title of the book you want to update: \")\n",
        "found = False\n",
        "\n",
        "for book in library:\n",
        "    if book['title'].lower() == update_title.lower():\n",
        "        new_author = input(\"Enter the new author (leave blank to keep current): \")\n",
        "        new_year = input(\"Enter the new publication year (leave blank to keep current): \")\n",
        "\n",
        "        if new_author:\n",
        "            book['author'] = new_author\n",
        "        if new_year:\n",
        "            book['year'] = new_year\n",
        "\n",
        "        print(\"Book information updated successfully!\")\n",
        "        found = True\n",
        "        break\n",
        "\n",
        "if not found:\n",
        "    print(\"Book not found.\")\n"
      ],
      "metadata": {
        "colab": {
          "base_uri": "https://localhost:8080/"
        },
        "id": "6RTrSwMqkdSv",
        "outputId": "31739881-3c25-42d0-e243-4174a5fa85c7"
      },
      "execution_count": 13,
      "outputs": [
        {
          "output_type": "stream",
          "name": "stdout",
          "text": [
            "Enter the title of the book you want to update: aquire\n",
            "Enter the new author (leave blank to keep current): \n",
            "Enter the new publication year (leave blank to keep current): 2000\n",
            "Book information updated successfully!\n"
          ]
        }
      ]
    },
    {
      "cell_type": "code",
      "source": [
        "# 6. Remove a Book\n",
        "## To remove a book, search for it by title and remove it from the library list if found.\n",
        "\n",
        "remove_title = input(\"Enter the title of the book you want to remove: \")\n",
        "found = False\n",
        "\n",
        "for book in library:\n",
        "    if book['title'].lower() == remove_title.lower():\n",
        "        library.remove(book)\n",
        "        print(\"Book removed successfully!\")\n",
        "        found = True\n",
        "        break\n",
        "\n",
        "if not found:\n",
        "    print(\"Book not found.\")\n"
      ],
      "metadata": {
        "colab": {
          "base_uri": "https://localhost:8080/"
        },
        "id": "vk6OMthLkqdT",
        "outputId": "82378274-37a1-4a0c-91c1-a64d1db2b5bb"
      },
      "execution_count": 11,
      "outputs": [
        {
          "output_type": "stream",
          "name": "stdout",
          "text": [
            "Enter the title of the book you want to remove: python\n",
            "Book removed successfully!\n"
          ]
        }
      ]
    },
    {
      "cell_type": "code",
      "source": [
        "# 6. Handle cases where the user searches or updates a book that does not exist.\n",
        "\n",
        "## 1. Handling Search Cases\n",
        "### If the user searches for a book by title and the book does not exist in the library, you should notify them that the book was not found.\n",
        "\n",
        "search_title = input(\"Enter the title of the book you want to search for: \")\n",
        "found = False\n",
        "\n",
        "for book in library:\n",
        "    if book['title'].lower() == search_title.lower():\n",
        "        print(f\"Book found! Title: {book['title']}, Author: {book['author']}, Year: {book['year']}\")\n",
        "        found = True\n",
        "        break\n",
        "\n",
        "if not found:\n",
        "    print(\"Book not found.\")\n"
      ],
      "metadata": {
        "colab": {
          "base_uri": "https://localhost:8080/"
        },
        "id": "9GPP7Lbnk4jz",
        "outputId": "ccb21e58-17a5-41d9-f61f-d659ef45ac8d"
      },
      "execution_count": 12,
      "outputs": [
        {
          "output_type": "stream",
          "name": "stdout",
          "text": [
            "Enter the title of the book you want to search for: season\n",
            "Book not found.\n"
          ]
        }
      ]
    },
    {
      "cell_type": "code",
      "source": [
        "## 2. Handling Update Cases\n",
        "### When the user attempts to update a book’s details, and the book is not in the library, you should inform them that the book could not be found.\n",
        "\n",
        "update_title = input(\"Enter the title of the book you want to update: \")\n",
        "found = False\n",
        "\n",
        "for book in library:\n",
        "    if book['title'].lower() == update_title.lower():\n",
        "        new_author = input(\"Enter the new author (leave blank to keep current): \")\n",
        "        new_year = input(\"Enter the new publication year (leave blank to keep current): \")\n",
        "\n",
        "        if new_author:\n",
        "            book['author'] = new_author\n",
        "        if new_year:\n",
        "            book['year'] = new_year\n",
        "\n",
        "        print(\"Book information updated successfully!\")\n",
        "        found = True\n",
        "        break\n",
        "\n",
        "if not found:\n",
        "    print(\"Book not found.\")\n"
      ],
      "metadata": {
        "colab": {
          "base_uri": "https://localhost:8080/"
        },
        "id": "-iwbYUjklafJ",
        "outputId": "f5f45e72-1f77-433e-8dfe-5fbfe2ab986e"
      },
      "execution_count": 15,
      "outputs": [
        {
          "output_type": "stream",
          "name": "stdout",
          "text": [
            "Enter the title of the book you want to update: nairobian\n",
            "Book not found.\n"
          ]
        }
      ]
    },
    {
      "cell_type": "code",
      "source": [
        "## 3. Handling Removal Cases\n",
        "### Similarly, if the user tries to remove a book that does not exist, you should notify them.\n",
        "\n",
        "remove_title = input(\"Enter the title of the book you want to remove: \")\n",
        "found = False\n",
        "\n",
        "for book in library:\n",
        "    if book['title'].lower() == remove_title.lower():\n",
        "        library.remove(book)\n",
        "        print(\"Book removed successfully!\")\n",
        "        found = True\n",
        "        break\n",
        "\n",
        "if not found:\n",
        "    print(\"Book not found.\")\n"
      ],
      "metadata": {
        "colab": {
          "base_uri": "https://localhost:8080/"
        },
        "id": "4b8FvebAlllf",
        "outputId": "e61e92cd-4260-49b0-8e35-bb4168e773a8"
      },
      "execution_count": 16,
      "outputs": [
        {
          "output_type": "stream",
          "name": "stdout",
          "text": [
            "Enter the title of the book you want to remove:  wild town\n",
            "Book not found.\n"
          ]
        }
      ]
    },
    {
      "cell_type": "code",
      "source": [],
      "metadata": {
        "id": "B5At-lMrl8pG"
      },
      "execution_count": null,
      "outputs": []
    },
    {
      "cell_type": "markdown",
      "source": [],
      "metadata": {
        "id": "AwKS3ctgmSkZ"
      }
    }
  ]
}